{
 "cells": [
  {
   "cell_type": "markdown",
   "id": "7e5d7791",
   "metadata": {},
   "source": [
    "## House Price Prediction\n",
    "\n",
    "Implement a linear regression model to predict the prices of houses based on their square footage and the number of bedrooms and bathrooms"
   ]
  },
  {
   "cell_type": "code",
   "execution_count": 461,
   "id": "a1d00e34",
   "metadata": {},
   "outputs": [],
   "source": [
    "#importing necessary libraries\n",
    "import pandas as pd\n",
    "import numpy as np\n",
    "\n",
    "import matplotlib.pyplot as plt\n",
    "%matplotlib inline\n",
    "import seaborn as sns\n",
    "\n",
    "from sklearn.preprocessing import StandardScaler\n",
    "from sklearn.model_selection import train_test_split\n",
    "from sklearn.linear_model import LinearRegression\n",
    "from sklearn.metrics import r2_score,mean_squared_error,mean_absolute_error\n",
    "from sklearn.model_selection import GridSearchCV\n",
    "import warnings\n",
    "warnings.filterwarnings(\"ignore\")"
   ]
  },
  {
   "cell_type": "code",
   "execution_count": 462,
   "id": "eef207d7",
   "metadata": {},
   "outputs": [],
   "source": [
    "train_df = pd.read_csv(\"train.csv\")\n",
    "test_df = pd.read_csv(\"test.csv\")"
   ]
  },
  {
   "cell_type": "code",
   "execution_count": 463,
   "id": "e92f5533",
   "metadata": {},
   "outputs": [
    {
     "data": {
      "text/html": [
       "<div>\n",
       "<style scoped>\n",
       "    .dataframe tbody tr th:only-of-type {\n",
       "        vertical-align: middle;\n",
       "    }\n",
       "\n",
       "    .dataframe tbody tr th {\n",
       "        vertical-align: top;\n",
       "    }\n",
       "\n",
       "    .dataframe thead th {\n",
       "        text-align: right;\n",
       "    }\n",
       "</style>\n",
       "<table border=\"1\" class=\"dataframe\">\n",
       "  <thead>\n",
       "    <tr style=\"text-align: right;\">\n",
       "      <th></th>\n",
       "      <th>Id</th>\n",
       "      <th>MSSubClass</th>\n",
       "      <th>MSZoning</th>\n",
       "      <th>LotFrontage</th>\n",
       "      <th>LotArea</th>\n",
       "      <th>Street</th>\n",
       "      <th>Alley</th>\n",
       "      <th>LotShape</th>\n",
       "      <th>LandContour</th>\n",
       "      <th>Utilities</th>\n",
       "      <th>...</th>\n",
       "      <th>PoolArea</th>\n",
       "      <th>PoolQC</th>\n",
       "      <th>Fence</th>\n",
       "      <th>MiscFeature</th>\n",
       "      <th>MiscVal</th>\n",
       "      <th>MoSold</th>\n",
       "      <th>YrSold</th>\n",
       "      <th>SaleType</th>\n",
       "      <th>SaleCondition</th>\n",
       "      <th>SalePrice</th>\n",
       "    </tr>\n",
       "  </thead>\n",
       "  <tbody>\n",
       "    <tr>\n",
       "      <th>0</th>\n",
       "      <td>1</td>\n",
       "      <td>60</td>\n",
       "      <td>RL</td>\n",
       "      <td>65.0</td>\n",
       "      <td>8450</td>\n",
       "      <td>Pave</td>\n",
       "      <td>NaN</td>\n",
       "      <td>Reg</td>\n",
       "      <td>Lvl</td>\n",
       "      <td>AllPub</td>\n",
       "      <td>...</td>\n",
       "      <td>0</td>\n",
       "      <td>NaN</td>\n",
       "      <td>NaN</td>\n",
       "      <td>NaN</td>\n",
       "      <td>0</td>\n",
       "      <td>2</td>\n",
       "      <td>2008</td>\n",
       "      <td>WD</td>\n",
       "      <td>Normal</td>\n",
       "      <td>208500</td>\n",
       "    </tr>\n",
       "    <tr>\n",
       "      <th>1</th>\n",
       "      <td>2</td>\n",
       "      <td>20</td>\n",
       "      <td>RL</td>\n",
       "      <td>80.0</td>\n",
       "      <td>9600</td>\n",
       "      <td>Pave</td>\n",
       "      <td>NaN</td>\n",
       "      <td>Reg</td>\n",
       "      <td>Lvl</td>\n",
       "      <td>AllPub</td>\n",
       "      <td>...</td>\n",
       "      <td>0</td>\n",
       "      <td>NaN</td>\n",
       "      <td>NaN</td>\n",
       "      <td>NaN</td>\n",
       "      <td>0</td>\n",
       "      <td>5</td>\n",
       "      <td>2007</td>\n",
       "      <td>WD</td>\n",
       "      <td>Normal</td>\n",
       "      <td>181500</td>\n",
       "    </tr>\n",
       "    <tr>\n",
       "      <th>2</th>\n",
       "      <td>3</td>\n",
       "      <td>60</td>\n",
       "      <td>RL</td>\n",
       "      <td>68.0</td>\n",
       "      <td>11250</td>\n",
       "      <td>Pave</td>\n",
       "      <td>NaN</td>\n",
       "      <td>IR1</td>\n",
       "      <td>Lvl</td>\n",
       "      <td>AllPub</td>\n",
       "      <td>...</td>\n",
       "      <td>0</td>\n",
       "      <td>NaN</td>\n",
       "      <td>NaN</td>\n",
       "      <td>NaN</td>\n",
       "      <td>0</td>\n",
       "      <td>9</td>\n",
       "      <td>2008</td>\n",
       "      <td>WD</td>\n",
       "      <td>Normal</td>\n",
       "      <td>223500</td>\n",
       "    </tr>\n",
       "    <tr>\n",
       "      <th>3</th>\n",
       "      <td>4</td>\n",
       "      <td>70</td>\n",
       "      <td>RL</td>\n",
       "      <td>60.0</td>\n",
       "      <td>9550</td>\n",
       "      <td>Pave</td>\n",
       "      <td>NaN</td>\n",
       "      <td>IR1</td>\n",
       "      <td>Lvl</td>\n",
       "      <td>AllPub</td>\n",
       "      <td>...</td>\n",
       "      <td>0</td>\n",
       "      <td>NaN</td>\n",
       "      <td>NaN</td>\n",
       "      <td>NaN</td>\n",
       "      <td>0</td>\n",
       "      <td>2</td>\n",
       "      <td>2006</td>\n",
       "      <td>WD</td>\n",
       "      <td>Abnorml</td>\n",
       "      <td>140000</td>\n",
       "    </tr>\n",
       "    <tr>\n",
       "      <th>4</th>\n",
       "      <td>5</td>\n",
       "      <td>60</td>\n",
       "      <td>RL</td>\n",
       "      <td>84.0</td>\n",
       "      <td>14260</td>\n",
       "      <td>Pave</td>\n",
       "      <td>NaN</td>\n",
       "      <td>IR1</td>\n",
       "      <td>Lvl</td>\n",
       "      <td>AllPub</td>\n",
       "      <td>...</td>\n",
       "      <td>0</td>\n",
       "      <td>NaN</td>\n",
       "      <td>NaN</td>\n",
       "      <td>NaN</td>\n",
       "      <td>0</td>\n",
       "      <td>12</td>\n",
       "      <td>2008</td>\n",
       "      <td>WD</td>\n",
       "      <td>Normal</td>\n",
       "      <td>250000</td>\n",
       "    </tr>\n",
       "  </tbody>\n",
       "</table>\n",
       "<p>5 rows × 81 columns</p>\n",
       "</div>"
      ],
      "text/plain": [
       "   Id  MSSubClass MSZoning  LotFrontage  LotArea Street Alley LotShape  \\\n",
       "0   1          60       RL         65.0     8450   Pave   NaN      Reg   \n",
       "1   2          20       RL         80.0     9600   Pave   NaN      Reg   \n",
       "2   3          60       RL         68.0    11250   Pave   NaN      IR1   \n",
       "3   4          70       RL         60.0     9550   Pave   NaN      IR1   \n",
       "4   5          60       RL         84.0    14260   Pave   NaN      IR1   \n",
       "\n",
       "  LandContour Utilities  ... PoolArea PoolQC Fence MiscFeature MiscVal MoSold  \\\n",
       "0         Lvl    AllPub  ...        0    NaN   NaN         NaN       0      2   \n",
       "1         Lvl    AllPub  ...        0    NaN   NaN         NaN       0      5   \n",
       "2         Lvl    AllPub  ...        0    NaN   NaN         NaN       0      9   \n",
       "3         Lvl    AllPub  ...        0    NaN   NaN         NaN       0      2   \n",
       "4         Lvl    AllPub  ...        0    NaN   NaN         NaN       0     12   \n",
       "\n",
       "  YrSold  SaleType  SaleCondition  SalePrice  \n",
       "0   2008        WD         Normal     208500  \n",
       "1   2007        WD         Normal     181500  \n",
       "2   2008        WD         Normal     223500  \n",
       "3   2006        WD        Abnorml     140000  \n",
       "4   2008        WD         Normal     250000  \n",
       "\n",
       "[5 rows x 81 columns]"
      ]
     },
     "execution_count": 463,
     "metadata": {},
     "output_type": "execute_result"
    }
   ],
   "source": [
    "train_df.head()"
   ]
  },
  {
   "cell_type": "code",
   "execution_count": 464,
   "id": "2e3eef09",
   "metadata": {},
   "outputs": [
    {
     "data": {
      "text/plain": [
       "(1460, 81)"
      ]
     },
     "execution_count": 464,
     "metadata": {},
     "output_type": "execute_result"
    }
   ],
   "source": [
    "#Shape of train dataset\n",
    "train_df.shape"
   ]
  },
  {
   "cell_type": "code",
   "execution_count": 465,
   "id": "43405ab2",
   "metadata": {},
   "outputs": [
    {
     "data": {
      "text/plain": [
       "(1459, 80)"
      ]
     },
     "execution_count": 465,
     "metadata": {},
     "output_type": "execute_result"
    }
   ],
   "source": [
    "#Shape of test dataset\n",
    "test_df.shape"
   ]
  },
  {
   "cell_type": "code",
   "execution_count": 466,
   "id": "c260ea13",
   "metadata": {},
   "outputs": [],
   "source": [
    "#Combining Train and Test dataset for preprocessing\n",
    "\n",
    "df = pd.concat([train_df , test_df])"
   ]
  },
  {
   "cell_type": "code",
   "execution_count": 467,
   "id": "2458f981",
   "metadata": {},
   "outputs": [
    {
     "data": {
      "text/plain": [
       "(2919, 81)"
      ]
     },
     "execution_count": 467,
     "metadata": {},
     "output_type": "execute_result"
    }
   ],
   "source": [
    "df.shape"
   ]
  },
  {
   "cell_type": "code",
   "execution_count": 468,
   "id": "0be4a388",
   "metadata": {},
   "outputs": [
    {
     "name": "stdout",
     "output_type": "stream",
     "text": [
      "<class 'pandas.core.frame.DataFrame'>\n",
      "Int64Index: 2919 entries, 0 to 1458\n",
      "Data columns (total 81 columns):\n",
      " #   Column         Non-Null Count  Dtype  \n",
      "---  ------         --------------  -----  \n",
      " 0   Id             2919 non-null   int64  \n",
      " 1   MSSubClass     2919 non-null   int64  \n",
      " 2   MSZoning       2915 non-null   object \n",
      " 3   LotFrontage    2433 non-null   float64\n",
      " 4   LotArea        2919 non-null   int64  \n",
      " 5   Street         2919 non-null   object \n",
      " 6   Alley          198 non-null    object \n",
      " 7   LotShape       2919 non-null   object \n",
      " 8   LandContour    2919 non-null   object \n",
      " 9   Utilities      2917 non-null   object \n",
      " 10  LotConfig      2919 non-null   object \n",
      " 11  LandSlope      2919 non-null   object \n",
      " 12  Neighborhood   2919 non-null   object \n",
      " 13  Condition1     2919 non-null   object \n",
      " 14  Condition2     2919 non-null   object \n",
      " 15  BldgType       2919 non-null   object \n",
      " 16  HouseStyle     2919 non-null   object \n",
      " 17  OverallQual    2919 non-null   int64  \n",
      " 18  OverallCond    2919 non-null   int64  \n",
      " 19  YearBuilt      2919 non-null   int64  \n",
      " 20  YearRemodAdd   2919 non-null   int64  \n",
      " 21  RoofStyle      2919 non-null   object \n",
      " 22  RoofMatl       2919 non-null   object \n",
      " 23  Exterior1st    2918 non-null   object \n",
      " 24  Exterior2nd    2918 non-null   object \n",
      " 25  MasVnrType     2895 non-null   object \n",
      " 26  MasVnrArea     2896 non-null   float64\n",
      " 27  ExterQual      2919 non-null   object \n",
      " 28  ExterCond      2919 non-null   object \n",
      " 29  Foundation     2919 non-null   object \n",
      " 30  BsmtQual       2838 non-null   object \n",
      " 31  BsmtCond       2837 non-null   object \n",
      " 32  BsmtExposure   2837 non-null   object \n",
      " 33  BsmtFinType1   2840 non-null   object \n",
      " 34  BsmtFinSF1     2918 non-null   float64\n",
      " 35  BsmtFinType2   2839 non-null   object \n",
      " 36  BsmtFinSF2     2918 non-null   float64\n",
      " 37  BsmtUnfSF      2918 non-null   float64\n",
      " 38  TotalBsmtSF    2918 non-null   float64\n",
      " 39  Heating        2919 non-null   object \n",
      " 40  HeatingQC      2919 non-null   object \n",
      " 41  CentralAir     2919 non-null   object \n",
      " 42  Electrical     2918 non-null   object \n",
      " 43  1stFlrSF       2919 non-null   int64  \n",
      " 44  2ndFlrSF       2919 non-null   int64  \n",
      " 45  LowQualFinSF   2919 non-null   int64  \n",
      " 46  GrLivArea      2919 non-null   int64  \n",
      " 47  BsmtFullBath   2917 non-null   float64\n",
      " 48  BsmtHalfBath   2917 non-null   float64\n",
      " 49  FullBath       2919 non-null   int64  \n",
      " 50  HalfBath       2919 non-null   int64  \n",
      " 51  BedroomAbvGr   2919 non-null   int64  \n",
      " 52  KitchenAbvGr   2919 non-null   int64  \n",
      " 53  KitchenQual    2918 non-null   object \n",
      " 54  TotRmsAbvGrd   2919 non-null   int64  \n",
      " 55  Functional     2917 non-null   object \n",
      " 56  Fireplaces     2919 non-null   int64  \n",
      " 57  FireplaceQu    1499 non-null   object \n",
      " 58  GarageType     2762 non-null   object \n",
      " 59  GarageYrBlt    2760 non-null   float64\n",
      " 60  GarageFinish   2760 non-null   object \n",
      " 61  GarageCars     2918 non-null   float64\n",
      " 62  GarageArea     2918 non-null   float64\n",
      " 63  GarageQual     2760 non-null   object \n",
      " 64  GarageCond     2760 non-null   object \n",
      " 65  PavedDrive     2919 non-null   object \n",
      " 66  WoodDeckSF     2919 non-null   int64  \n",
      " 67  OpenPorchSF    2919 non-null   int64  \n",
      " 68  EnclosedPorch  2919 non-null   int64  \n",
      " 69  3SsnPorch      2919 non-null   int64  \n",
      " 70  ScreenPorch    2919 non-null   int64  \n",
      " 71  PoolArea       2919 non-null   int64  \n",
      " 72  PoolQC         10 non-null     object \n",
      " 73  Fence          571 non-null    object \n",
      " 74  MiscFeature    105 non-null    object \n",
      " 75  MiscVal        2919 non-null   int64  \n",
      " 76  MoSold         2919 non-null   int64  \n",
      " 77  YrSold         2919 non-null   int64  \n",
      " 78  SaleType       2918 non-null   object \n",
      " 79  SaleCondition  2919 non-null   object \n",
      " 80  SalePrice      1460 non-null   float64\n",
      "dtypes: float64(12), int64(26), object(43)\n",
      "memory usage: 1.8+ MB\n"
     ]
    }
   ],
   "source": [
    "df.info()"
   ]
  },
  {
   "cell_type": "code",
   "execution_count": 469,
   "id": "f264d2f8",
   "metadata": {},
   "outputs": [
    {
     "data": {
      "text/html": [
       "<div>\n",
       "<style scoped>\n",
       "    .dataframe tbody tr th:only-of-type {\n",
       "        vertical-align: middle;\n",
       "    }\n",
       "\n",
       "    .dataframe tbody tr th {\n",
       "        vertical-align: top;\n",
       "    }\n",
       "\n",
       "    .dataframe thead th {\n",
       "        text-align: right;\n",
       "    }\n",
       "</style>\n",
       "<table border=\"1\" class=\"dataframe\">\n",
       "  <thead>\n",
       "    <tr style=\"text-align: right;\">\n",
       "      <th></th>\n",
       "      <th>Id</th>\n",
       "      <th>MSSubClass</th>\n",
       "      <th>LotFrontage</th>\n",
       "      <th>LotArea</th>\n",
       "      <th>OverallQual</th>\n",
       "      <th>OverallCond</th>\n",
       "      <th>YearBuilt</th>\n",
       "      <th>YearRemodAdd</th>\n",
       "      <th>MasVnrArea</th>\n",
       "      <th>BsmtFinSF1</th>\n",
       "      <th>...</th>\n",
       "      <th>WoodDeckSF</th>\n",
       "      <th>OpenPorchSF</th>\n",
       "      <th>EnclosedPorch</th>\n",
       "      <th>3SsnPorch</th>\n",
       "      <th>ScreenPorch</th>\n",
       "      <th>PoolArea</th>\n",
       "      <th>MiscVal</th>\n",
       "      <th>MoSold</th>\n",
       "      <th>YrSold</th>\n",
       "      <th>SalePrice</th>\n",
       "    </tr>\n",
       "  </thead>\n",
       "  <tbody>\n",
       "    <tr>\n",
       "      <th>count</th>\n",
       "      <td>2919.000000</td>\n",
       "      <td>2919.000000</td>\n",
       "      <td>2433.000000</td>\n",
       "      <td>2919.000000</td>\n",
       "      <td>2919.000000</td>\n",
       "      <td>2919.000000</td>\n",
       "      <td>2919.000000</td>\n",
       "      <td>2919.000000</td>\n",
       "      <td>2896.000000</td>\n",
       "      <td>2918.000000</td>\n",
       "      <td>...</td>\n",
       "      <td>2919.000000</td>\n",
       "      <td>2919.000000</td>\n",
       "      <td>2919.000000</td>\n",
       "      <td>2919.000000</td>\n",
       "      <td>2919.000000</td>\n",
       "      <td>2919.000000</td>\n",
       "      <td>2919.000000</td>\n",
       "      <td>2919.000000</td>\n",
       "      <td>2919.000000</td>\n",
       "      <td>1460.000000</td>\n",
       "    </tr>\n",
       "    <tr>\n",
       "      <th>mean</th>\n",
       "      <td>1460.000000</td>\n",
       "      <td>57.137718</td>\n",
       "      <td>69.305795</td>\n",
       "      <td>10168.114080</td>\n",
       "      <td>6.089072</td>\n",
       "      <td>5.564577</td>\n",
       "      <td>1971.312778</td>\n",
       "      <td>1984.264474</td>\n",
       "      <td>102.201312</td>\n",
       "      <td>441.423235</td>\n",
       "      <td>...</td>\n",
       "      <td>93.709832</td>\n",
       "      <td>47.486811</td>\n",
       "      <td>23.098321</td>\n",
       "      <td>2.602261</td>\n",
       "      <td>16.062350</td>\n",
       "      <td>2.251799</td>\n",
       "      <td>50.825968</td>\n",
       "      <td>6.213087</td>\n",
       "      <td>2007.792737</td>\n",
       "      <td>180921.195890</td>\n",
       "    </tr>\n",
       "    <tr>\n",
       "      <th>std</th>\n",
       "      <td>842.787043</td>\n",
       "      <td>42.517628</td>\n",
       "      <td>23.344905</td>\n",
       "      <td>7886.996359</td>\n",
       "      <td>1.409947</td>\n",
       "      <td>1.113131</td>\n",
       "      <td>30.291442</td>\n",
       "      <td>20.894344</td>\n",
       "      <td>179.334253</td>\n",
       "      <td>455.610826</td>\n",
       "      <td>...</td>\n",
       "      <td>126.526589</td>\n",
       "      <td>67.575493</td>\n",
       "      <td>64.244246</td>\n",
       "      <td>25.188169</td>\n",
       "      <td>56.184365</td>\n",
       "      <td>35.663946</td>\n",
       "      <td>567.402211</td>\n",
       "      <td>2.714762</td>\n",
       "      <td>1.314964</td>\n",
       "      <td>79442.502883</td>\n",
       "    </tr>\n",
       "    <tr>\n",
       "      <th>min</th>\n",
       "      <td>1.000000</td>\n",
       "      <td>20.000000</td>\n",
       "      <td>21.000000</td>\n",
       "      <td>1300.000000</td>\n",
       "      <td>1.000000</td>\n",
       "      <td>1.000000</td>\n",
       "      <td>1872.000000</td>\n",
       "      <td>1950.000000</td>\n",
       "      <td>0.000000</td>\n",
       "      <td>0.000000</td>\n",
       "      <td>...</td>\n",
       "      <td>0.000000</td>\n",
       "      <td>0.000000</td>\n",
       "      <td>0.000000</td>\n",
       "      <td>0.000000</td>\n",
       "      <td>0.000000</td>\n",
       "      <td>0.000000</td>\n",
       "      <td>0.000000</td>\n",
       "      <td>1.000000</td>\n",
       "      <td>2006.000000</td>\n",
       "      <td>34900.000000</td>\n",
       "    </tr>\n",
       "    <tr>\n",
       "      <th>25%</th>\n",
       "      <td>730.500000</td>\n",
       "      <td>20.000000</td>\n",
       "      <td>59.000000</td>\n",
       "      <td>7478.000000</td>\n",
       "      <td>5.000000</td>\n",
       "      <td>5.000000</td>\n",
       "      <td>1953.500000</td>\n",
       "      <td>1965.000000</td>\n",
       "      <td>0.000000</td>\n",
       "      <td>0.000000</td>\n",
       "      <td>...</td>\n",
       "      <td>0.000000</td>\n",
       "      <td>0.000000</td>\n",
       "      <td>0.000000</td>\n",
       "      <td>0.000000</td>\n",
       "      <td>0.000000</td>\n",
       "      <td>0.000000</td>\n",
       "      <td>0.000000</td>\n",
       "      <td>4.000000</td>\n",
       "      <td>2007.000000</td>\n",
       "      <td>129975.000000</td>\n",
       "    </tr>\n",
       "    <tr>\n",
       "      <th>50%</th>\n",
       "      <td>1460.000000</td>\n",
       "      <td>50.000000</td>\n",
       "      <td>68.000000</td>\n",
       "      <td>9453.000000</td>\n",
       "      <td>6.000000</td>\n",
       "      <td>5.000000</td>\n",
       "      <td>1973.000000</td>\n",
       "      <td>1993.000000</td>\n",
       "      <td>0.000000</td>\n",
       "      <td>368.500000</td>\n",
       "      <td>...</td>\n",
       "      <td>0.000000</td>\n",
       "      <td>26.000000</td>\n",
       "      <td>0.000000</td>\n",
       "      <td>0.000000</td>\n",
       "      <td>0.000000</td>\n",
       "      <td>0.000000</td>\n",
       "      <td>0.000000</td>\n",
       "      <td>6.000000</td>\n",
       "      <td>2008.000000</td>\n",
       "      <td>163000.000000</td>\n",
       "    </tr>\n",
       "    <tr>\n",
       "      <th>75%</th>\n",
       "      <td>2189.500000</td>\n",
       "      <td>70.000000</td>\n",
       "      <td>80.000000</td>\n",
       "      <td>11570.000000</td>\n",
       "      <td>7.000000</td>\n",
       "      <td>6.000000</td>\n",
       "      <td>2001.000000</td>\n",
       "      <td>2004.000000</td>\n",
       "      <td>164.000000</td>\n",
       "      <td>733.000000</td>\n",
       "      <td>...</td>\n",
       "      <td>168.000000</td>\n",
       "      <td>70.000000</td>\n",
       "      <td>0.000000</td>\n",
       "      <td>0.000000</td>\n",
       "      <td>0.000000</td>\n",
       "      <td>0.000000</td>\n",
       "      <td>0.000000</td>\n",
       "      <td>8.000000</td>\n",
       "      <td>2009.000000</td>\n",
       "      <td>214000.000000</td>\n",
       "    </tr>\n",
       "    <tr>\n",
       "      <th>max</th>\n",
       "      <td>2919.000000</td>\n",
       "      <td>190.000000</td>\n",
       "      <td>313.000000</td>\n",
       "      <td>215245.000000</td>\n",
       "      <td>10.000000</td>\n",
       "      <td>9.000000</td>\n",
       "      <td>2010.000000</td>\n",
       "      <td>2010.000000</td>\n",
       "      <td>1600.000000</td>\n",
       "      <td>5644.000000</td>\n",
       "      <td>...</td>\n",
       "      <td>1424.000000</td>\n",
       "      <td>742.000000</td>\n",
       "      <td>1012.000000</td>\n",
       "      <td>508.000000</td>\n",
       "      <td>576.000000</td>\n",
       "      <td>800.000000</td>\n",
       "      <td>17000.000000</td>\n",
       "      <td>12.000000</td>\n",
       "      <td>2010.000000</td>\n",
       "      <td>755000.000000</td>\n",
       "    </tr>\n",
       "  </tbody>\n",
       "</table>\n",
       "<p>8 rows × 38 columns</p>\n",
       "</div>"
      ],
      "text/plain": [
       "                Id   MSSubClass  LotFrontage        LotArea  OverallQual  \\\n",
       "count  2919.000000  2919.000000  2433.000000    2919.000000  2919.000000   \n",
       "mean   1460.000000    57.137718    69.305795   10168.114080     6.089072   \n",
       "std     842.787043    42.517628    23.344905    7886.996359     1.409947   \n",
       "min       1.000000    20.000000    21.000000    1300.000000     1.000000   \n",
       "25%     730.500000    20.000000    59.000000    7478.000000     5.000000   \n",
       "50%    1460.000000    50.000000    68.000000    9453.000000     6.000000   \n",
       "75%    2189.500000    70.000000    80.000000   11570.000000     7.000000   \n",
       "max    2919.000000   190.000000   313.000000  215245.000000    10.000000   \n",
       "\n",
       "       OverallCond    YearBuilt  YearRemodAdd   MasVnrArea   BsmtFinSF1  ...  \\\n",
       "count  2919.000000  2919.000000   2919.000000  2896.000000  2918.000000  ...   \n",
       "mean      5.564577  1971.312778   1984.264474   102.201312   441.423235  ...   \n",
       "std       1.113131    30.291442     20.894344   179.334253   455.610826  ...   \n",
       "min       1.000000  1872.000000   1950.000000     0.000000     0.000000  ...   \n",
       "25%       5.000000  1953.500000   1965.000000     0.000000     0.000000  ...   \n",
       "50%       5.000000  1973.000000   1993.000000     0.000000   368.500000  ...   \n",
       "75%       6.000000  2001.000000   2004.000000   164.000000   733.000000  ...   \n",
       "max       9.000000  2010.000000   2010.000000  1600.000000  5644.000000  ...   \n",
       "\n",
       "        WoodDeckSF  OpenPorchSF  EnclosedPorch    3SsnPorch  ScreenPorch  \\\n",
       "count  2919.000000  2919.000000    2919.000000  2919.000000  2919.000000   \n",
       "mean     93.709832    47.486811      23.098321     2.602261    16.062350   \n",
       "std     126.526589    67.575493      64.244246    25.188169    56.184365   \n",
       "min       0.000000     0.000000       0.000000     0.000000     0.000000   \n",
       "25%       0.000000     0.000000       0.000000     0.000000     0.000000   \n",
       "50%       0.000000    26.000000       0.000000     0.000000     0.000000   \n",
       "75%     168.000000    70.000000       0.000000     0.000000     0.000000   \n",
       "max    1424.000000   742.000000    1012.000000   508.000000   576.000000   \n",
       "\n",
       "          PoolArea       MiscVal       MoSold       YrSold      SalePrice  \n",
       "count  2919.000000   2919.000000  2919.000000  2919.000000    1460.000000  \n",
       "mean      2.251799     50.825968     6.213087  2007.792737  180921.195890  \n",
       "std      35.663946    567.402211     2.714762     1.314964   79442.502883  \n",
       "min       0.000000      0.000000     1.000000  2006.000000   34900.000000  \n",
       "25%       0.000000      0.000000     4.000000  2007.000000  129975.000000  \n",
       "50%       0.000000      0.000000     6.000000  2008.000000  163000.000000  \n",
       "75%       0.000000      0.000000     8.000000  2009.000000  214000.000000  \n",
       "max     800.000000  17000.000000    12.000000  2010.000000  755000.000000  \n",
       "\n",
       "[8 rows x 38 columns]"
      ]
     },
     "execution_count": 469,
     "metadata": {},
     "output_type": "execute_result"
    }
   ],
   "source": [
    "#Statistical Analysis\n",
    "df.describe()"
   ]
  },
  {
   "cell_type": "markdown",
   "id": "b6ec4274",
   "metadata": {},
   "source": [
    "### Handling Missing Values"
   ]
  },
  {
   "cell_type": "code",
   "execution_count": 470,
   "id": "a47b979a",
   "metadata": {},
   "outputs": [
    {
     "data": {
      "text/plain": [
       "Id                  0\n",
       "MSSubClass          0\n",
       "MSZoning            4\n",
       "LotFrontage       486\n",
       "LotArea             0\n",
       "                 ... \n",
       "MoSold              0\n",
       "YrSold              0\n",
       "SaleType            1\n",
       "SaleCondition       0\n",
       "SalePrice        1459\n",
       "Length: 81, dtype: int64"
      ]
     },
     "execution_count": 470,
     "metadata": {},
     "output_type": "execute_result"
    }
   ],
   "source": [
    "#Checking Missing values\n",
    "df.isnull().sum()"
   ]
  },
  {
   "cell_type": "code",
   "execution_count": 471,
   "id": "83a7340a",
   "metadata": {},
   "outputs": [
    {
     "data": {
      "text/plain": [
       "MSZoning           4\n",
       "LotFrontage      486\n",
       "Alley           2721\n",
       "Utilities          2\n",
       "Exterior1st        1\n",
       "Exterior2nd        1\n",
       "MasVnrType        24\n",
       "MasVnrArea        23\n",
       "BsmtQual          81\n",
       "BsmtCond          82\n",
       "BsmtExposure      82\n",
       "BsmtFinType1      79\n",
       "BsmtFinSF1         1\n",
       "BsmtFinType2      80\n",
       "BsmtFinSF2         1\n",
       "BsmtUnfSF          1\n",
       "TotalBsmtSF        1\n",
       "Electrical         1\n",
       "BsmtFullBath       2\n",
       "BsmtHalfBath       2\n",
       "KitchenQual        1\n",
       "Functional         2\n",
       "FireplaceQu     1420\n",
       "GarageType       157\n",
       "GarageYrBlt      159\n",
       "GarageFinish     159\n",
       "GarageCars         1\n",
       "GarageArea         1\n",
       "GarageQual       159\n",
       "GarageCond       159\n",
       "PoolQC          2909\n",
       "Fence           2348\n",
       "MiscFeature     2814\n",
       "SaleType           1\n",
       "SalePrice       1459\n",
       "dtype: int64"
      ]
     },
     "execution_count": 471,
     "metadata": {},
     "output_type": "execute_result"
    }
   ],
   "source": [
    "#Extracting columns with missing values\n",
    "missing = df.isnull().sum()\n",
    "missing[missing!=0] "
   ]
  },
  {
   "cell_type": "code",
   "execution_count": 472,
   "id": "03164ce0",
   "metadata": {},
   "outputs": [],
   "source": [
    "#Dealing with missing values in \"MSZoning\" (Identifies the general zoning classification of the sale)\n",
    "#Replacing Nan with \"Unknown\"\n",
    "\n",
    "df.MSZoning.fillna( \"Unknown\", inplace=True)"
   ]
  },
  {
   "cell_type": "code",
   "execution_count": 473,
   "id": "eb99329e",
   "metadata": {},
   "outputs": [],
   "source": [
    "#Dealing with missing values in \"LotFrontage\" (Linear feet of street connected to property)\n",
    "\n",
    "#Assuming this distance to be zero, replacing all NaN with 0\n",
    "\n",
    "df.LotFrontage.fillna(0, inplace=True)"
   ]
  },
  {
   "cell_type": "code",
   "execution_count": 474,
   "id": "fbf983b9",
   "metadata": {},
   "outputs": [],
   "source": [
    "#Dealing with missing values in \"Alley\"(Type of alley access to property: Grvl(Gravel), Pave(Paved), NA(No alley access))\n",
    "#Replacing NaN with \"None\"\n",
    "\n",
    "df.Alley.fillna(\"None\", inplace=True)"
   ]
  },
  {
   "cell_type": "code",
   "execution_count": 475,
   "id": "cd8e3cb5",
   "metadata": {},
   "outputs": [],
   "source": [
    "#Dealing with missing values in \"Utilities\"(Type of utilities available)\n",
    "#Replacing NaN with \"None\" as no utilities available in these cases\n",
    "\n",
    "df.Utilities.fillna(\"None\", inplace=True)"
   ]
  },
  {
   "cell_type": "code",
   "execution_count": 476,
   "id": "4c746425",
   "metadata": {},
   "outputs": [],
   "source": [
    "#Dealing with missing values in \"Exterior1st\" and \"Exterior2nd\" (Exterior covering on house)\n",
    "#Replacing Nan with \"Unknown\"\n",
    "\n",
    "df.Exterior1st.fillna( \"Unknown\", inplace=True)\n",
    "df.Exterior2nd.fillna( \"Unknown\", inplace=True)"
   ]
  },
  {
   "cell_type": "code",
   "execution_count": 477,
   "id": "79239767",
   "metadata": {},
   "outputs": [],
   "source": [
    "#Dealing with missing values in \"MasVnrType\"(Masonry veneer type : BrkCmn(Brick Common),BrkFace(Brick Face),\n",
    "#                                              CBlock(Cinder Block), None, Stone)\n",
    "\n",
    "#Replacing NaN with \"None\"\n",
    "\n",
    "df.MasVnrType.fillna(\"None\", inplace=True)"
   ]
  },
  {
   "cell_type": "code",
   "execution_count": 478,
   "id": "d52c87fe",
   "metadata": {},
   "outputs": [
    {
     "data": {
      "text/html": [
       "<div>\n",
       "<style scoped>\n",
       "    .dataframe tbody tr th:only-of-type {\n",
       "        vertical-align: middle;\n",
       "    }\n",
       "\n",
       "    .dataframe tbody tr th {\n",
       "        vertical-align: top;\n",
       "    }\n",
       "\n",
       "    .dataframe thead th {\n",
       "        text-align: right;\n",
       "    }\n",
       "</style>\n",
       "<table border=\"1\" class=\"dataframe\">\n",
       "  <thead>\n",
       "    <tr style=\"text-align: right;\">\n",
       "      <th></th>\n",
       "      <th>MasVnrType</th>\n",
       "      <th>MasVnrArea</th>\n",
       "    </tr>\n",
       "  </thead>\n",
       "  <tbody>\n",
       "    <tr>\n",
       "      <th>234</th>\n",
       "      <td>None</td>\n",
       "      <td>NaN</td>\n",
       "    </tr>\n",
       "    <tr>\n",
       "      <th>529</th>\n",
       "      <td>None</td>\n",
       "      <td>NaN</td>\n",
       "    </tr>\n",
       "    <tr>\n",
       "      <th>650</th>\n",
       "      <td>None</td>\n",
       "      <td>NaN</td>\n",
       "    </tr>\n",
       "    <tr>\n",
       "      <th>936</th>\n",
       "      <td>None</td>\n",
       "      <td>NaN</td>\n",
       "    </tr>\n",
       "    <tr>\n",
       "      <th>973</th>\n",
       "      <td>None</td>\n",
       "      <td>NaN</td>\n",
       "    </tr>\n",
       "    <tr>\n",
       "      <th>977</th>\n",
       "      <td>None</td>\n",
       "      <td>NaN</td>\n",
       "    </tr>\n",
       "    <tr>\n",
       "      <th>1243</th>\n",
       "      <td>None</td>\n",
       "      <td>NaN</td>\n",
       "    </tr>\n",
       "    <tr>\n",
       "      <th>1278</th>\n",
       "      <td>None</td>\n",
       "      <td>NaN</td>\n",
       "    </tr>\n",
       "    <tr>\n",
       "      <th>231</th>\n",
       "      <td>None</td>\n",
       "      <td>NaN</td>\n",
       "    </tr>\n",
       "    <tr>\n",
       "      <th>246</th>\n",
       "      <td>None</td>\n",
       "      <td>NaN</td>\n",
       "    </tr>\n",
       "    <tr>\n",
       "      <th>422</th>\n",
       "      <td>None</td>\n",
       "      <td>NaN</td>\n",
       "    </tr>\n",
       "    <tr>\n",
       "      <th>532</th>\n",
       "      <td>None</td>\n",
       "      <td>NaN</td>\n",
       "    </tr>\n",
       "    <tr>\n",
       "      <th>544</th>\n",
       "      <td>None</td>\n",
       "      <td>NaN</td>\n",
       "    </tr>\n",
       "    <tr>\n",
       "      <th>581</th>\n",
       "      <td>None</td>\n",
       "      <td>NaN</td>\n",
       "    </tr>\n",
       "    <tr>\n",
       "      <th>851</th>\n",
       "      <td>None</td>\n",
       "      <td>NaN</td>\n",
       "    </tr>\n",
       "    <tr>\n",
       "      <th>865</th>\n",
       "      <td>None</td>\n",
       "      <td>NaN</td>\n",
       "    </tr>\n",
       "    <tr>\n",
       "      <th>880</th>\n",
       "      <td>None</td>\n",
       "      <td>NaN</td>\n",
       "    </tr>\n",
       "    <tr>\n",
       "      <th>889</th>\n",
       "      <td>None</td>\n",
       "      <td>NaN</td>\n",
       "    </tr>\n",
       "    <tr>\n",
       "      <th>908</th>\n",
       "      <td>None</td>\n",
       "      <td>NaN</td>\n",
       "    </tr>\n",
       "    <tr>\n",
       "      <th>1132</th>\n",
       "      <td>None</td>\n",
       "      <td>NaN</td>\n",
       "    </tr>\n",
       "    <tr>\n",
       "      <th>1197</th>\n",
       "      <td>None</td>\n",
       "      <td>NaN</td>\n",
       "    </tr>\n",
       "    <tr>\n",
       "      <th>1226</th>\n",
       "      <td>None</td>\n",
       "      <td>NaN</td>\n",
       "    </tr>\n",
       "    <tr>\n",
       "      <th>1402</th>\n",
       "      <td>None</td>\n",
       "      <td>NaN</td>\n",
       "    </tr>\n",
       "  </tbody>\n",
       "</table>\n",
       "</div>"
      ],
      "text/plain": [
       "     MasVnrType  MasVnrArea\n",
       "234        None         NaN\n",
       "529        None         NaN\n",
       "650        None         NaN\n",
       "936        None         NaN\n",
       "973        None         NaN\n",
       "977        None         NaN\n",
       "1243       None         NaN\n",
       "1278       None         NaN\n",
       "231        None         NaN\n",
       "246        None         NaN\n",
       "422        None         NaN\n",
       "532        None         NaN\n",
       "544        None         NaN\n",
       "581        None         NaN\n",
       "851        None         NaN\n",
       "865        None         NaN\n",
       "880        None         NaN\n",
       "889        None         NaN\n",
       "908        None         NaN\n",
       "1132       None         NaN\n",
       "1197       None         NaN\n",
       "1226       None         NaN\n",
       "1402       None         NaN"
      ]
     },
     "execution_count": 478,
     "metadata": {},
     "output_type": "execute_result"
    }
   ],
   "source": [
    "#Dealing with missing values in \"MasVnrArea\"\n",
    "df[df.MasVnrArea.isnull()][['MasVnrType','MasVnrArea']]"
   ]
  },
  {
   "cell_type": "code",
   "execution_count": 479,
   "id": "c468c39e",
   "metadata": {},
   "outputs": [],
   "source": [
    "#Replacing Nan with 0\n",
    "df.MasVnrArea.fillna(0, inplace=True)"
   ]
  },
  {
   "cell_type": "code",
   "execution_count": 480,
   "id": "9d4e9b06",
   "metadata": {},
   "outputs": [],
   "source": [
    "#Dealing with missing values in \"BsmtQual\"(Evaluates the height of the basement :\n",
    "#                                           Ex-Excellent (100+ inches),\n",
    "#                                           Gd-Good (90-99 inches)\n",
    "#                                           TA-Typical (80-89 inches)\n",
    "#                                           Fa-Fair (70-79 inches)\n",
    "#                                           Po-Poor (<70 inches\n",
    "#                                           NA-No Basement )\n",
    "#Replacing NaN with \"None\"\n",
    "\n",
    "df.BsmtQual.fillna(\"None\", inplace=True)"
   ]
  },
  {
   "cell_type": "code",
   "execution_count": 481,
   "id": "0d569281",
   "metadata": {},
   "outputs": [
    {
     "data": {
      "text/html": [
       "<div>\n",
       "<style scoped>\n",
       "    .dataframe tbody tr th:only-of-type {\n",
       "        vertical-align: middle;\n",
       "    }\n",
       "\n",
       "    .dataframe tbody tr th {\n",
       "        vertical-align: top;\n",
       "    }\n",
       "\n",
       "    .dataframe thead th {\n",
       "        text-align: right;\n",
       "    }\n",
       "</style>\n",
       "<table border=\"1\" class=\"dataframe\">\n",
       "  <thead>\n",
       "    <tr style=\"text-align: right;\">\n",
       "      <th></th>\n",
       "      <th>BsmtQual</th>\n",
       "      <th>BsmtCond</th>\n",
       "    </tr>\n",
       "  </thead>\n",
       "  <tbody>\n",
       "    <tr>\n",
       "      <th>17</th>\n",
       "      <td>None</td>\n",
       "      <td>NaN</td>\n",
       "    </tr>\n",
       "    <tr>\n",
       "      <th>39</th>\n",
       "      <td>None</td>\n",
       "      <td>NaN</td>\n",
       "    </tr>\n",
       "    <tr>\n",
       "      <th>90</th>\n",
       "      <td>None</td>\n",
       "      <td>NaN</td>\n",
       "    </tr>\n",
       "    <tr>\n",
       "      <th>102</th>\n",
       "      <td>None</td>\n",
       "      <td>NaN</td>\n",
       "    </tr>\n",
       "    <tr>\n",
       "      <th>156</th>\n",
       "      <td>None</td>\n",
       "      <td>NaN</td>\n",
       "    </tr>\n",
       "    <tr>\n",
       "      <th>...</th>\n",
       "      <td>...</td>\n",
       "      <td>...</td>\n",
       "    </tr>\n",
       "    <tr>\n",
       "      <th>1343</th>\n",
       "      <td>None</td>\n",
       "      <td>NaN</td>\n",
       "    </tr>\n",
       "    <tr>\n",
       "      <th>1344</th>\n",
       "      <td>None</td>\n",
       "      <td>NaN</td>\n",
       "    </tr>\n",
       "    <tr>\n",
       "      <th>1364</th>\n",
       "      <td>None</td>\n",
       "      <td>NaN</td>\n",
       "    </tr>\n",
       "    <tr>\n",
       "      <th>1431</th>\n",
       "      <td>None</td>\n",
       "      <td>NaN</td>\n",
       "    </tr>\n",
       "    <tr>\n",
       "      <th>1444</th>\n",
       "      <td>None</td>\n",
       "      <td>NaN</td>\n",
       "    </tr>\n",
       "  </tbody>\n",
       "</table>\n",
       "<p>82 rows × 2 columns</p>\n",
       "</div>"
      ],
      "text/plain": [
       "     BsmtQual BsmtCond\n",
       "17       None      NaN\n",
       "39       None      NaN\n",
       "90       None      NaN\n",
       "102      None      NaN\n",
       "156      None      NaN\n",
       "...       ...      ...\n",
       "1343     None      NaN\n",
       "1344     None      NaN\n",
       "1364     None      NaN\n",
       "1431     None      NaN\n",
       "1444     None      NaN\n",
       "\n",
       "[82 rows x 2 columns]"
      ]
     },
     "execution_count": 481,
     "metadata": {},
     "output_type": "execute_result"
    }
   ],
   "source": [
    "#Dealing with missing values in \"BsmtCond\"(Evaluates the general condition of the basement)\n",
    "df[df.BsmtCond.isnull()][['BsmtQual','BsmtCond']]"
   ]
  },
  {
   "cell_type": "code",
   "execution_count": 482,
   "id": "f0ce12f4",
   "metadata": {},
   "outputs": [],
   "source": [
    "#Replacing Nan with 'None' as no basement present in these cases\n",
    "df.BsmtCond.fillna(\"None\", inplace=True)"
   ]
  },
  {
   "cell_type": "code",
   "execution_count": 483,
   "id": "2e8817c1",
   "metadata": {},
   "outputs": [],
   "source": [
    "#Dealing with missing values in \"BsmtExposure\"(Refers to walkout or garden level walls:\n",
    "#                                              Gd - Good Exposure,\n",
    "#                           Av - Average Exposure (split levels or foyers typically score average or above),\n",
    "#                           Mn - Mimimum Exposure,\n",
    "#                           No - No Exposure,\n",
    "#                           NA - No Basement)\n",
    "\n",
    "#Replacing NaN with \"No\"\n",
    "df.BsmtExposure.fillna(\"None\", inplace=True)"
   ]
  },
  {
   "cell_type": "code",
   "execution_count": 484,
   "id": "31422026",
   "metadata": {},
   "outputs": [],
   "source": [
    "#Dealing with missing values in \"BsmtFinType1\" and \"BsmtFinType2\" (Rating of basement finished area)\n",
    "#Replacing NaN with \"None\" as no basement present \n",
    "\n",
    "df.BsmtFinType1.fillna(\"None\", inplace=True)\n",
    "df.BsmtFinType2.fillna(\"None\", inplace=True)"
   ]
  },
  {
   "cell_type": "code",
   "execution_count": 485,
   "id": "60ba04d6",
   "metadata": {},
   "outputs": [],
   "source": [
    "#Dealing with missing values in \"BsmtFinSF1\" and \"BsmtFinSF2\" (finished square feet)\n",
    "#Replacing Nan with 0\n",
    "\n",
    "df.BsmtFinSF1.fillna(0, inplace=True)\n",
    "df.BsmtFinSF2.fillna(0, inplace=True)"
   ]
  },
  {
   "cell_type": "code",
   "execution_count": 486,
   "id": "9ce7cc17",
   "metadata": {},
   "outputs": [],
   "source": [
    "#Dealing with missing values in \"BsmtUnfSF\" (Unfinished square feet of basement area) \n",
    "#                           and \"TotalBsmtSF\" (Total square feet of basement area)\n",
    "#Replacing Nan with 0\n",
    "\n",
    "df.BsmtUnfSF.fillna(0, inplace=True)\n",
    "df.TotalBsmtSF.fillna(0, inplace=True)"
   ]
  },
  {
   "cell_type": "code",
   "execution_count": 487,
   "id": "807e3eda",
   "metadata": {},
   "outputs": [],
   "source": [
    "#Dealing with missing values in \"Electrical\"(Electrical system)\n",
    "#Replacing NaN with \"None\"\n",
    "\n",
    "df.Electrical.fillna(\"None\", inplace=True)"
   ]
  },
  {
   "cell_type": "code",
   "execution_count": 488,
   "id": "10e6f89f",
   "metadata": {},
   "outputs": [],
   "source": [
    "#Dealing with missing values in \"BsmtFullBath\" (Basement full bathrooms) and \"BsmtHalfBath\" (Basement half bathrooms)\n",
    "#Replacing NaN with \"0\" as no bathroom present\n",
    "\n",
    "df.BsmtFullBath.fillna(0, inplace=True)\n",
    "df.BsmtHalfBath.fillna(0, inplace=True)"
   ]
  },
  {
   "cell_type": "code",
   "execution_count": 489,
   "id": "7fb37167",
   "metadata": {},
   "outputs": [],
   "source": [
    "#Dealing with missing values in \"KitchenQual\" (Kitchen quality)\n",
    "#Replacing NaN with \"Unknown\"\n",
    "\n",
    "df.KitchenQual.fillna(\"None\", inplace=True)"
   ]
  },
  {
   "cell_type": "code",
   "execution_count": 490,
   "id": "769488a6",
   "metadata": {},
   "outputs": [],
   "source": [
    "#Dealing with missing values in \"Functional\" (Home functionality )\n",
    "#Replacing NaN with \"Unknown\"\n",
    "\n",
    "df.Functional.fillna(\"None\", inplace=True)"
   ]
  },
  {
   "cell_type": "code",
   "execution_count": 491,
   "id": "fd57690a",
   "metadata": {},
   "outputs": [],
   "source": [
    "#Dealing with missing values in \"FireplaceQu\" (Fireplace quality: \n",
    "#                                                Ex:Excellent - Exceptional Masonry Fireplace\n",
    "#                                                Gd:Good - Masonry Fireplace in main level\n",
    "#                                                TA:Average - Prefabricated Fireplace in main living area or Masonry Fireplace in basement\n",
    "#                                                Fa:Fair - Prefabricated Fireplace in basement\n",
    "#                                                Po:Poor - Ben Franklin Stove\n",
    "#                                                NA:No Fireplace)\n",
    "#Replacing NaN with \"None\" as no Fireplace\n",
    "\n",
    "df.FireplaceQu.fillna(\"None\", inplace=True)"
   ]
  },
  {
   "cell_type": "code",
   "execution_count": 492,
   "id": "4ecd5b4c",
   "metadata": {},
   "outputs": [],
   "source": [
    "#Dealing with missing values in \"GarageType\" (Garage location), \"GarageYrBlt\" (Year garage was built), \n",
    "#                               \"GarageFinish\" (Interior finish of the garage), \"GarageQual\"(Garage quality),\n",
    "#                               \"GarageCars\" (Size of garage in car capacity), \"GarageArea\" (Size of garage in square feet) and\n",
    "#                               \"GarageCond\"(Garage condition)\n",
    "\n",
    "#Replacing Nan in \"GarageYrBlt\" and \"GarageArea\" with 0 and for others replacing Nan with \"None\" as no garage present here.\n",
    "\n",
    "df.GarageYrBlt.fillna(0, inplace=True)\n",
    "df.GarageCars.fillna(0, inplace=True)\n",
    "df.GarageArea.fillna(0, inplace=True)\n",
    "\n",
    "df.GarageType.fillna(\"None\", inplace=True)\n",
    "df.GarageFinish.fillna(\"None\", inplace=True)\n",
    "df.GarageQual.fillna(\"None\", inplace=True)\n",
    "df.GarageCond.fillna(\"None\", inplace=True)"
   ]
  },
  {
   "cell_type": "code",
   "execution_count": 493,
   "id": "fadc9bd9",
   "metadata": {},
   "outputs": [],
   "source": [
    "#Dealing with missing values in \"SaleType\"(Type of sale)\n",
    "#Replacing NaN with \"Unknown\"\n",
    "df.SaleType.fillna(\"Unknown\", inplace=True)"
   ]
  },
  {
   "cell_type": "code",
   "execution_count": 494,
   "id": "30f4b74e",
   "metadata": {},
   "outputs": [],
   "source": [
    "#Dealing with missing values in \"PoolQC\" (Pool quality: Ex-Excellent, Gd-Good, TA-Average/Typical, Fa-Fair, NA-No Pool)\n",
    "#Replacing NaN with \"None\"\n",
    "df.PoolQC.fillna(\"None\", inplace=True)"
   ]
  },
  {
   "cell_type": "code",
   "execution_count": 495,
   "id": "b550eb7c",
   "metadata": {},
   "outputs": [],
   "source": [
    "#Dealing with missing values in \"Fence\" (Fence quality: GdPrv-Good Privacy, MnPrv-Minimum Privacy, GdWo-Good Wood,\n",
    "#                                                       MnWw-Minimum Wood/Wire, NA-No Fence)\n",
    "#Replacing NaN with \"None\"\n",
    "df.Fence.fillna(\"None\", inplace=True)"
   ]
  },
  {
   "cell_type": "code",
   "execution_count": 496,
   "id": "fadc5baf",
   "metadata": {},
   "outputs": [],
   "source": [
    "#Dealing with missing values in \"MiscFeature\"(Miscellaneous feature not covered in other categories)\n",
    "#Replacing NaN with \"None\" as no Miscellaneous feature present\n",
    "\n",
    "df.MiscFeature.fillna(\"None\", inplace=True)"
   ]
  },
  {
   "cell_type": "code",
   "execution_count": 497,
   "id": "b0d57537",
   "metadata": {},
   "outputs": [
    {
     "data": {
      "text/plain": [
       "1459"
      ]
     },
     "execution_count": 497,
     "metadata": {},
     "output_type": "execute_result"
    }
   ],
   "source": [
    "df.isnull().sum().sum()"
   ]
  },
  {
   "cell_type": "markdown",
   "id": "53bd8b56",
   "metadata": {},
   "source": [
    "There are no mising values now except for Sales Price that is a part of our Test dataset!"
   ]
  },
  {
   "cell_type": "code",
   "execution_count": 498,
   "id": "3a18da33",
   "metadata": {},
   "outputs": [
    {
     "data": {
      "text/plain": [
       "0"
      ]
     },
     "execution_count": 498,
     "metadata": {},
     "output_type": "execute_result"
    }
   ],
   "source": [
    "#Checking for Duplicates\n",
    "\n",
    "df.duplicated().sum()"
   ]
  },
  {
   "cell_type": "markdown",
   "id": "084a19ad",
   "metadata": {},
   "source": [
    "There are no duplicates !"
   ]
  },
  {
   "cell_type": "markdown",
   "id": "452c6ef1",
   "metadata": {},
   "source": [
    "### Encoding"
   ]
  },
  {
   "cell_type": "code",
   "execution_count": 499,
   "id": "b2cf73bc",
   "metadata": {},
   "outputs": [],
   "source": [
    "#Selecting Categorical columns\n",
    "cat_cols = df.select_dtypes(\"object\").columns"
   ]
  },
  {
   "cell_type": "code",
   "execution_count": 500,
   "id": "f473ce9d",
   "metadata": {},
   "outputs": [],
   "source": [
    "#Encoding dataset\n",
    "df_dummies = pd.get_dummies(df, columns=cat_cols, drop_first=True)"
   ]
  },
  {
   "cell_type": "markdown",
   "id": "76353dbd",
   "metadata": {},
   "source": [
    "### Scaling"
   ]
  },
  {
   "cell_type": "code",
   "execution_count": 501,
   "id": "dfd34231",
   "metadata": {},
   "outputs": [],
   "source": [
    "#Scaling dataset\n",
    "scaler = StandardScaler()\n",
    "df_final = pd.DataFrame(scaler.fit_transform(df_dummies), columns = df_dummies.columns)"
   ]
  },
  {
   "cell_type": "code",
   "execution_count": 502,
   "id": "2489c6fe",
   "metadata": {},
   "outputs": [
    {
     "data": {
      "text/html": [
       "<div>\n",
       "<style scoped>\n",
       "    .dataframe tbody tr th:only-of-type {\n",
       "        vertical-align: middle;\n",
       "    }\n",
       "\n",
       "    .dataframe tbody tr th {\n",
       "        vertical-align: top;\n",
       "    }\n",
       "\n",
       "    .dataframe thead th {\n",
       "        text-align: right;\n",
       "    }\n",
       "</style>\n",
       "<table border=\"1\" class=\"dataframe\">\n",
       "  <thead>\n",
       "    <tr style=\"text-align: right;\">\n",
       "      <th></th>\n",
       "      <th>Id</th>\n",
       "      <th>MSSubClass</th>\n",
       "      <th>LotFrontage</th>\n",
       "      <th>LotArea</th>\n",
       "      <th>OverallQual</th>\n",
       "      <th>OverallCond</th>\n",
       "      <th>YearBuilt</th>\n",
       "      <th>YearRemodAdd</th>\n",
       "      <th>MasVnrArea</th>\n",
       "      <th>BsmtFinSF1</th>\n",
       "      <th>...</th>\n",
       "      <th>SaleType_ConLw</th>\n",
       "      <th>SaleType_New</th>\n",
       "      <th>SaleType_Oth</th>\n",
       "      <th>SaleType_Unknown</th>\n",
       "      <th>SaleType_WD</th>\n",
       "      <th>SaleCondition_AdjLand</th>\n",
       "      <th>SaleCondition_Alloca</th>\n",
       "      <th>SaleCondition_Family</th>\n",
       "      <th>SaleCondition_Normal</th>\n",
       "      <th>SaleCondition_Partial</th>\n",
       "    </tr>\n",
       "  </thead>\n",
       "  <tbody>\n",
       "    <tr>\n",
       "      <th>0</th>\n",
       "      <td>-1.731458</td>\n",
       "      <td>0.067331</td>\n",
       "      <td>0.216075</td>\n",
       "      <td>-0.217879</td>\n",
       "      <td>0.646183</td>\n",
       "      <td>-0.507284</td>\n",
       "      <td>1.046258</td>\n",
       "      <td>0.896833</td>\n",
       "      <td>0.529034</td>\n",
       "      <td>0.581145</td>\n",
       "      <td>...</td>\n",
       "      <td>-0.052423</td>\n",
       "      <td>-0.298629</td>\n",
       "      <td>-0.049029</td>\n",
       "      <td>-0.018512</td>\n",
       "      <td>0.395018</td>\n",
       "      <td>-0.064249</td>\n",
       "      <td>-0.09105</td>\n",
       "      <td>-0.126535</td>\n",
       "      <td>0.463937</td>\n",
       "      <td>-0.302693</td>\n",
       "    </tr>\n",
       "    <tr>\n",
       "      <th>1</th>\n",
       "      <td>-1.730271</td>\n",
       "      <td>-0.873616</td>\n",
       "      <td>0.664158</td>\n",
       "      <td>-0.072044</td>\n",
       "      <td>-0.063185</td>\n",
       "      <td>2.188279</td>\n",
       "      <td>0.154764</td>\n",
       "      <td>-0.395604</td>\n",
       "      <td>-0.567016</td>\n",
       "      <td>1.178255</td>\n",
       "      <td>...</td>\n",
       "      <td>-0.052423</td>\n",
       "      <td>-0.298629</td>\n",
       "      <td>-0.049029</td>\n",
       "      <td>-0.018512</td>\n",
       "      <td>0.395018</td>\n",
       "      <td>-0.064249</td>\n",
       "      <td>-0.09105</td>\n",
       "      <td>-0.126535</td>\n",
       "      <td>0.463937</td>\n",
       "      <td>-0.302693</td>\n",
       "    </tr>\n",
       "    <tr>\n",
       "      <th>2</th>\n",
       "      <td>-1.729084</td>\n",
       "      <td>0.067331</td>\n",
       "      <td>0.305692</td>\n",
       "      <td>0.137197</td>\n",
       "      <td>0.646183</td>\n",
       "      <td>-0.507284</td>\n",
       "      <td>0.980221</td>\n",
       "      <td>0.848965</td>\n",
       "      <td>0.338903</td>\n",
       "      <td>0.098189</td>\n",
       "      <td>...</td>\n",
       "      <td>-0.052423</td>\n",
       "      <td>-0.298629</td>\n",
       "      <td>-0.049029</td>\n",
       "      <td>-0.018512</td>\n",
       "      <td>0.395018</td>\n",
       "      <td>-0.064249</td>\n",
       "      <td>-0.09105</td>\n",
       "      <td>-0.126535</td>\n",
       "      <td>0.463937</td>\n",
       "      <td>-0.302693</td>\n",
       "    </tr>\n",
       "    <tr>\n",
       "      <th>3</th>\n",
       "      <td>-1.727897</td>\n",
       "      <td>0.302568</td>\n",
       "      <td>0.066714</td>\n",
       "      <td>-0.078385</td>\n",
       "      <td>0.646183</td>\n",
       "      <td>-0.507284</td>\n",
       "      <td>-1.859351</td>\n",
       "      <td>-0.682812</td>\n",
       "      <td>-0.567016</td>\n",
       "      <td>-0.494529</td>\n",
       "      <td>...</td>\n",
       "      <td>-0.052423</td>\n",
       "      <td>-0.298629</td>\n",
       "      <td>-0.049029</td>\n",
       "      <td>-0.018512</td>\n",
       "      <td>0.395018</td>\n",
       "      <td>-0.064249</td>\n",
       "      <td>-0.09105</td>\n",
       "      <td>-0.126535</td>\n",
       "      <td>-2.155466</td>\n",
       "      <td>-0.302693</td>\n",
       "    </tr>\n",
       "    <tr>\n",
       "      <th>4</th>\n",
       "      <td>-1.726711</td>\n",
       "      <td>0.067331</td>\n",
       "      <td>0.783647</td>\n",
       "      <td>0.518903</td>\n",
       "      <td>1.355551</td>\n",
       "      <td>-0.507284</td>\n",
       "      <td>0.947203</td>\n",
       "      <td>0.753229</td>\n",
       "      <td>1.390216</td>\n",
       "      <td>0.469187</td>\n",
       "      <td>...</td>\n",
       "      <td>-0.052423</td>\n",
       "      <td>-0.298629</td>\n",
       "      <td>-0.049029</td>\n",
       "      <td>-0.018512</td>\n",
       "      <td>0.395018</td>\n",
       "      <td>-0.064249</td>\n",
       "      <td>-0.09105</td>\n",
       "      <td>-0.126535</td>\n",
       "      <td>0.463937</td>\n",
       "      <td>-0.302693</td>\n",
       "    </tr>\n",
       "  </tbody>\n",
       "</table>\n",
       "<p>5 rows × 269 columns</p>\n",
       "</div>"
      ],
      "text/plain": [
       "         Id  MSSubClass  LotFrontage   LotArea  OverallQual  OverallCond  \\\n",
       "0 -1.731458    0.067331     0.216075 -0.217879     0.646183    -0.507284   \n",
       "1 -1.730271   -0.873616     0.664158 -0.072044    -0.063185     2.188279   \n",
       "2 -1.729084    0.067331     0.305692  0.137197     0.646183    -0.507284   \n",
       "3 -1.727897    0.302568     0.066714 -0.078385     0.646183    -0.507284   \n",
       "4 -1.726711    0.067331     0.783647  0.518903     1.355551    -0.507284   \n",
       "\n",
       "   YearBuilt  YearRemodAdd  MasVnrArea  BsmtFinSF1  ...  SaleType_ConLw  \\\n",
       "0   1.046258      0.896833    0.529034    0.581145  ...       -0.052423   \n",
       "1   0.154764     -0.395604   -0.567016    1.178255  ...       -0.052423   \n",
       "2   0.980221      0.848965    0.338903    0.098189  ...       -0.052423   \n",
       "3  -1.859351     -0.682812   -0.567016   -0.494529  ...       -0.052423   \n",
       "4   0.947203      0.753229    1.390216    0.469187  ...       -0.052423   \n",
       "\n",
       "   SaleType_New  SaleType_Oth  SaleType_Unknown  SaleType_WD  \\\n",
       "0     -0.298629     -0.049029         -0.018512     0.395018   \n",
       "1     -0.298629     -0.049029         -0.018512     0.395018   \n",
       "2     -0.298629     -0.049029         -0.018512     0.395018   \n",
       "3     -0.298629     -0.049029         -0.018512     0.395018   \n",
       "4     -0.298629     -0.049029         -0.018512     0.395018   \n",
       "\n",
       "   SaleCondition_AdjLand  SaleCondition_Alloca  SaleCondition_Family  \\\n",
       "0              -0.064249              -0.09105             -0.126535   \n",
       "1              -0.064249              -0.09105             -0.126535   \n",
       "2              -0.064249              -0.09105             -0.126535   \n",
       "3              -0.064249              -0.09105             -0.126535   \n",
       "4              -0.064249              -0.09105             -0.126535   \n",
       "\n",
       "   SaleCondition_Normal  SaleCondition_Partial  \n",
       "0              0.463937              -0.302693  \n",
       "1              0.463937              -0.302693  \n",
       "2              0.463937              -0.302693  \n",
       "3             -2.155466              -0.302693  \n",
       "4              0.463937              -0.302693  \n",
       "\n",
       "[5 rows x 269 columns]"
      ]
     },
     "execution_count": 502,
     "metadata": {},
     "output_type": "execute_result"
    }
   ],
   "source": [
    "df_final.head()"
   ]
  },
  {
   "cell_type": "markdown",
   "id": "c1d294cd",
   "metadata": {},
   "source": [
    "###### Our dataset is now ready . Let us split the data to our original Train and Test dataset"
   ]
  },
  {
   "cell_type": "code",
   "execution_count": 535,
   "id": "39248a9b",
   "metadata": {},
   "outputs": [],
   "source": [
    "#Splitting data to original datasets\n",
    "Train_final = df_final[df_final[\"SalePrice\"].notna()]\n",
    "Test_final = df_final[df_final[\"SalePrice\"].isnull()]\n",
    "Test_final.drop(\"SalePrice\", axis=1, inplace=True)"
   ]
  },
  {
   "cell_type": "code",
   "execution_count": 536,
   "id": "57b94fb8",
   "metadata": {},
   "outputs": [
    {
     "name": "stdout",
     "output_type": "stream",
     "text": [
      "Train dataset shape:  (1460, 269)\n",
      "Test dataset shape:  (1459, 268)\n"
     ]
    }
   ],
   "source": [
    "print(\"Train dataset shape: \", Train_final.shape)\n",
    "print(\"Test dataset shape: \", Test_final.shape)"
   ]
  },
  {
   "cell_type": "markdown",
   "id": "90f3d6f1",
   "metadata": {},
   "source": [
    "##### Our data is now ready for Modelling!"
   ]
  },
  {
   "cell_type": "code",
   "execution_count": 505,
   "id": "28d019a2",
   "metadata": {},
   "outputs": [],
   "source": [
    "#Defining our X and y\n",
    "X = Train_final.drop('SalePrice', axis=1)\n",
    "y = Train_final['SalePrice']"
   ]
  },
  {
   "cell_type": "markdown",
   "id": "b8c2227b",
   "metadata": {},
   "source": [
    "### Linear Regression Model"
   ]
  },
  {
   "cell_type": "code",
   "execution_count": 506,
   "id": "29ec84f6",
   "metadata": {},
   "outputs": [],
   "source": [
    "#Train Test Split\n",
    "\n",
    "train_X, test_X, train_y, test_y = train_test_split(X, y, test_size=0.3)"
   ]
  },
  {
   "cell_type": "code",
   "execution_count": 507,
   "id": "4828a8da",
   "metadata": {},
   "outputs": [
    {
     "data": {
      "text/plain": [
       "LinearRegression()"
      ]
     },
     "execution_count": 507,
     "metadata": {},
     "output_type": "execute_result"
    }
   ],
   "source": [
    "#Fitting model on test data\n",
    "LR = LinearRegression()\n",
    "LR.fit(train_X, train_y)"
   ]
  },
  {
   "cell_type": "code",
   "execution_count": 508,
   "id": "7c26ece7",
   "metadata": {},
   "outputs": [
    {
     "name": "stdout",
     "output_type": "stream",
     "text": [
      "Train Score: 0.9407060564755615\n",
      "Test Score: -1.4617559617271502e+21\n"
     ]
    }
   ],
   "source": [
    "print('Train Score: {}'.format(LR.score(train_X, train_y)))  \n",
    "print('Test Score: {}'.format(LR.score(test_X, test_y)))   "
   ]
  },
  {
   "cell_type": "code",
   "execution_count": 509,
   "id": "744d8755",
   "metadata": {},
   "outputs": [
    {
     "data": {
      "text/plain": [
       "-1.4617559617271502e+21"
      ]
     },
     "execution_count": 509,
     "metadata": {},
     "output_type": "execute_result"
    }
   ],
   "source": [
    "pred_sales = LR.predict(test_X)\n",
    "r2_score(test_y, pred_sales)"
   ]
  },
  {
   "cell_type": "code",
   "execution_count": 510,
   "id": "3f645fdb",
   "metadata": {},
   "outputs": [
    {
     "name": "stdout",
     "output_type": "stream",
     "text": [
      "TRAIN DATA RESULTS\n",
      "Mean Absolute Error (MAE) on Train data  :  0.15464990445543533\n",
      "Mean Squared Error (MSE) on Train data  :  0.059500173191902046\n",
      "RMSE on Train Data : 0.24392657336153856\n",
      "Training Set R squared score :  0.9407060564755615\n",
      "\n",
      "TEST DATA RESULTS\n",
      "Mean Absolute Error (MAE) on Test data : 4357160815.852334\n",
      "Mean Squared Error (MSE) on Test data : 1.4454840899440751e+21\n",
      "RMSE on Test Data : 38019522484.429955\n",
      "Test Set R squared score : -1.4617559617271502e+21\n"
     ]
    }
   ],
   "source": [
    "#Evaluation on Train and Test data\n",
    "\n",
    "preds_train = LR.predict(train_X)\n",
    "preds_test = LR.predict(test_X)\n",
    "\n",
    "print('TRAIN DATA RESULTS')\n",
    "print(\"Mean Absolute Error (MAE) on Train data  : \", mean_absolute_error(preds_train,train_y))\n",
    "print(\"Mean Squared Error (MSE) on Train data  : \", mean_squared_error(preds_train,train_y))\n",
    "print('RMSE on Train Data :', np.sqrt(mean_squared_error(preds_train,train_y)))\n",
    "print('Training Set R squared score : ', LR.score(train_X, train_y))\n",
    "\n",
    "print('\\nTEST DATA RESULTS')\n",
    "print('Mean Absolute Error (MAE) on Test data :', mean_absolute_error(preds_test,test_y))\n",
    "print('Mean Squared Error (MSE) on Test data :', mean_squared_error(preds_test,test_y))\n",
    "print('RMSE on Test Data :', np.sqrt(mean_squared_error(preds_test,test_y)))\n",
    "print('Test Set R squared score :', LR.score(test_X, test_y))\n"
   ]
  },
  {
   "cell_type": "markdown",
   "id": "9edd7011",
   "metadata": {},
   "source": [
    "##### Our Model is highly overfitted!! Let us use regularisation!"
   ]
  },
  {
   "cell_type": "markdown",
   "id": "b9604f1f",
   "metadata": {},
   "source": [
    "#### L1 Regularisation(Lasso)"
   ]
  },
  {
   "cell_type": "code",
   "execution_count": 511,
   "id": "18bcf6ad",
   "metadata": {},
   "outputs": [
    {
     "name": "stdout",
     "output_type": "stream",
     "text": [
      "train score: 0.0\n",
      "test score: -0.004357342218363813\n",
      "R2 score:  -0.004357342218363813\n"
     ]
    }
   ],
   "source": [
    "from sklearn.linear_model import Lasso\n",
    "\n",
    "lasso = Lasso()\n",
    "lasso.fit(train_X, train_y)\n",
    "\n",
    "print('train score: {}'.format(lasso.score(train_X,train_y)))\n",
    "print('test score: {}'.format(lasso.score(test_X, test_y)))\n",
    "pred_sales = lasso.predict(test_X)\n",
    "print('R2 score: ', r2_score(test_y, pred_sales))"
   ]
  },
  {
   "cell_type": "code",
   "execution_count": 512,
   "id": "8777ed1b",
   "metadata": {},
   "outputs": [
    {
     "data": {
      "text/plain": [
       "GridSearchCV(estimator=Lasso(),\n",
       "             param_grid={'alpha': [0.0001, 0.001, 0.01, 0.05, 0.1, 0.2, 0.5,\n",
       "                                   0.8, 1, 5, 10, 15],\n",
       "                         'max_iter': [1500, 10000, 100000]})"
      ]
     },
     "execution_count": 512,
     "metadata": {},
     "output_type": "execute_result"
    }
   ],
   "source": [
    "#Hyperparameter Tuning\n",
    "params = {'alpha':[0.0001, 0.001, 0.01, 0.05, 0.1, 0.2, 0.5, 0.8, 1, 5, 10, 15], 'max_iter':[1500, 10000, 100000]}\n",
    "grid_search = GridSearchCV(lasso, params)\n",
    "grid_search.fit(train_X, train_y)"
   ]
  },
  {
   "cell_type": "code",
   "execution_count": 513,
   "id": "c7f82308",
   "metadata": {},
   "outputs": [
    {
     "data": {
      "text/plain": [
       "{'alpha': 0.01, 'max_iter': 1500}"
      ]
     },
     "execution_count": 513,
     "metadata": {},
     "output_type": "execute_result"
    }
   ],
   "source": [
    "grid_search.best_params_"
   ]
  },
  {
   "cell_type": "code",
   "execution_count": 514,
   "id": "57791aae",
   "metadata": {},
   "outputs": [
    {
     "data": {
      "text/plain": [
       "Lasso(alpha=0.01, max_iter=1500)"
      ]
     },
     "execution_count": 514,
     "metadata": {},
     "output_type": "execute_result"
    }
   ],
   "source": [
    "grid_search.best_estimator_"
   ]
  },
  {
   "cell_type": "code",
   "execution_count": 515,
   "id": "3530630c",
   "metadata": {},
   "outputs": [
    {
     "name": "stdout",
     "output_type": "stream",
     "text": [
      "train score: 0.9009871693529095\n",
      "test score: 0.8698108418759333\n",
      "R2 score: 0.8698108418759333\n"
     ]
    }
   ],
   "source": [
    "#Using these best parameters \n",
    "lasso = grid_search.best_estimator_\n",
    "lasso.fit(train_X, train_y)\n",
    "\n",
    "print('train score: {}'.format(lasso.score(train_X,train_y)))\n",
    "print('test score: {}'.format(lasso.score(test_X, test_y)))\n",
    "pred_sales = lasso.predict(test_X)\n",
    "print('R2 score:', r2_score(test_y, pred_sales))"
   ]
  },
  {
   "cell_type": "code",
   "execution_count": 516,
   "id": "80cedceb",
   "metadata": {},
   "outputs": [
    {
     "name": "stdout",
     "output_type": "stream",
     "text": [
      "TRAIN DATA RESULTS\n",
      "Mean Absolute Error (MAE) on Train data  :  0.1920802676568343\n",
      "Mean Squared Error (MSE) on Train data  :  0.09935720617560571\n",
      "RMSE on Train Data : 0.3152097812181686\n",
      "Training Set R squared score :  0.9009871693529095\n",
      "\n",
      "TEST DATA RESULTS\n",
      "Mean Absolute Error (MAE) on Test data : 0.2253742480663887\n",
      "Mean Squared Error (MSE) on Test data : 0.12873992764783984\n",
      "RMSE on Test Data : 0.3588034666051038\n",
      "Test Set R squared score : 0.8698108418759333\n"
     ]
    }
   ],
   "source": [
    "#### Evaluation on Train and Test data\n",
    "            \n",
    "preds_train = lasso.predict(train_X)\n",
    "preds_test = lasso.predict(test_X)\n",
    "\n",
    "print('TRAIN DATA RESULTS')\n",
    "print(\"Mean Absolute Error (MAE) on Train data  : \", mean_absolute_error(preds_train,train_y))\n",
    "print(\"Mean Squared Error (MSE) on Train data  : \", mean_squared_error(preds_train,train_y))\n",
    "print('RMSE on Train Data :', np.sqrt(mean_squared_error(preds_train,train_y)))\n",
    "print('Training Set R squared score : ', lasso.score(train_X, train_y))\n",
    "\n",
    "print('\\nTEST DATA RESULTS')\n",
    "print('Mean Absolute Error (MAE) on Test data :', mean_absolute_error(preds_test,test_y))\n",
    "print('Mean Squared Error (MSE) on Test data :', mean_squared_error(preds_test,test_y))\n",
    "print('RMSE on Test Data :', np.sqrt(mean_squared_error(preds_test,test_y)))\n",
    "print('Test Set R squared score :', lasso.score(test_X, test_y))"
   ]
  },
  {
   "cell_type": "code",
   "execution_count": 517,
   "id": "4fad50bf",
   "metadata": {},
   "outputs": [],
   "source": [
    "#Saving all scores for model comparison\n",
    "Lasso_train = lasso.score(train_X,train_y)\n",
    "Lasso_test = lasso.score(test_X, test_y)\n",
    "Lasso_R2 = r2_score(test_y, pred_sales)\n",
    "Lasso_MAE = mean_absolute_error(preds_test,test_y)\n",
    "Lasso_MSE = mean_squared_error(preds_test,test_y)\n",
    "Lasso_RMSE = np.sqrt(mean_squared_error(preds_test,test_y))"
   ]
  },
  {
   "cell_type": "markdown",
   "id": "f9b2e9e3",
   "metadata": {},
   "source": [
    "#### L2 Regularisation(Ridge)"
   ]
  },
  {
   "cell_type": "code",
   "execution_count": 518,
   "id": "188222c7",
   "metadata": {},
   "outputs": [
    {
     "name": "stdout",
     "output_type": "stream",
     "text": [
      "train score: 0.9392053230043065\n",
      "test score: 0.8727448325063709\n",
      "R2 score:  0.8727448325063709\n"
     ]
    }
   ],
   "source": [
    "from sklearn.linear_model import Ridge\n",
    "\n",
    "ridge = Ridge()\n",
    "ridge.fit(train_X, train_y)\n",
    "\n",
    "print('train score: {}'.format(ridge.score(train_X,train_y)))\n",
    "print('test score: {}'.format(ridge.score(test_X, test_y)))\n",
    "pred_sales = ridge.predict(test_X)\n",
    "print('R2 score: ', r2_score(test_y, pred_sales))"
   ]
  },
  {
   "cell_type": "code",
   "execution_count": 519,
   "id": "5ddd38d2",
   "metadata": {},
   "outputs": [
    {
     "data": {
      "text/plain": [
       "GridSearchCV(estimator=Ridge(),\n",
       "             param_grid={'alpha': [0.01, 0.05, 0.1, 0.2, 0.5, 0.8, 1, 5, 10,\n",
       "                                   15],\n",
       "                         'max_iter': [1500, 10000, 100000]})"
      ]
     },
     "execution_count": 519,
     "metadata": {},
     "output_type": "execute_result"
    }
   ],
   "source": [
    "#Hyperparameter Tuning\n",
    "params = {'alpha':[0.01, 0.05, 0.1, 0.2, 0.5, 0.8, 1, 5, 10, 15], 'max_iter':[1500, 10000, 100000]}\n",
    "grid_search = GridSearchCV(ridge, params)\n",
    "grid_search.fit(train_X, train_y)"
   ]
  },
  {
   "cell_type": "code",
   "execution_count": 520,
   "id": "752d2ebf",
   "metadata": {},
   "outputs": [
    {
     "data": {
      "text/plain": [
       "Ridge(alpha=15, max_iter=1500)"
      ]
     },
     "execution_count": 520,
     "metadata": {},
     "output_type": "execute_result"
    }
   ],
   "source": [
    "grid_search.best_estimator_"
   ]
  },
  {
   "cell_type": "code",
   "execution_count": 521,
   "id": "50094643",
   "metadata": {},
   "outputs": [
    {
     "name": "stdout",
     "output_type": "stream",
     "text": [
      "train score: 0.931975196444363\n",
      "test score: 0.883833231926604\n",
      "R2 score:  0.883833231926604\n"
     ]
    }
   ],
   "source": [
    "#Using best parameters\n",
    "ridge = grid_search.best_estimator_\n",
    "ridge.fit(train_X, train_y)\n",
    "\n",
    "print('train score: {}'.format(ridge.score(train_X,train_y)))\n",
    "print('test score: {}'.format(ridge.score(test_X, test_y)))\n",
    "pred_sales = ridge.predict(test_X)\n",
    "print('R2 score: ', r2_score(test_y, pred_sales))"
   ]
  },
  {
   "cell_type": "code",
   "execution_count": 522,
   "id": "f78c9681",
   "metadata": {},
   "outputs": [
    {
     "name": "stdout",
     "output_type": "stream",
     "text": [
      "TRAIN DATA RESULTS\n",
      "Mean Absolute Error (MAE) on Train data  :  0.17004553629494107\n",
      "Mean Squared Error (MSE) on Train data  :  0.06826139993939369\n",
      "RMSE on Train Data : 0.2612688269568218\n",
      "Training Set R squared score :  0.931975196444363\n",
      "\n",
      "TEST DATA RESULTS\n",
      "Mean Absolute Error (MAE) on Test data : 0.23166090686379448\n",
      "Mean Squared Error (MSE) on Test data : 0.11487363104845023\n",
      "RMSE on Test Data : 0.3389301270888297\n",
      "Test Set R squared score : 0.883833231926604\n"
     ]
    }
   ],
   "source": [
    "#### Evaluation on Train and Test data\n",
    "            \n",
    "preds_train = ridge.predict(train_X)\n",
    "preds_test = ridge.predict(test_X)\n",
    "\n",
    "print('TRAIN DATA RESULTS')\n",
    "print(\"Mean Absolute Error (MAE) on Train data  : \", mean_absolute_error(preds_train,train_y))\n",
    "print(\"Mean Squared Error (MSE) on Train data  : \", mean_squared_error(preds_train,train_y))\n",
    "print('RMSE on Train Data :', np.sqrt(mean_squared_error(preds_train,train_y)))\n",
    "print('Training Set R squared score : ', ridge.score(train_X, train_y))\n",
    "\n",
    "print('\\nTEST DATA RESULTS')\n",
    "print('Mean Absolute Error (MAE) on Test data :', mean_absolute_error(preds_test,test_y))\n",
    "print('Mean Squared Error (MSE) on Test data :', mean_squared_error(preds_test,test_y))\n",
    "print('RMSE on Test Data :', np.sqrt(mean_squared_error(preds_test,test_y)))\n",
    "print('Test Set R squared score :', ridge.score(test_X, test_y))"
   ]
  },
  {
   "cell_type": "code",
   "execution_count": 523,
   "id": "3dcfc4d6",
   "metadata": {},
   "outputs": [],
   "source": [
    "#Saving all scores for model comparison\n",
    "Ridge_train = ridge.score(train_X,train_y)\n",
    "Ridge_test = ridge.score(test_X, test_y)\n",
    "Ridge_R2 = r2_score(test_y, pred_sales)\n",
    "Ridge_MAE = mean_absolute_error(preds_test,test_y)\n",
    "Ridge_MSE = mean_squared_error(preds_test,test_y)\n",
    "Ridge_RMSE = np.sqrt(mean_squared_error(preds_test,test_y))"
   ]
  },
  {
   "cell_type": "markdown",
   "id": "3913f9a7",
   "metadata": {},
   "source": [
    "#### ElasticNet"
   ]
  },
  {
   "cell_type": "code",
   "execution_count": 524,
   "id": "009a315a",
   "metadata": {},
   "outputs": [
    {
     "name": "stdout",
     "output_type": "stream",
     "text": [
      "train score: 0.3307529048878106\n",
      "test score: 0.3182243019487254\n",
      "R2 score:  0.3182243019487254\n"
     ]
    }
   ],
   "source": [
    "from sklearn.linear_model import ElasticNet\n",
    "\n",
    "Elasticnet = ElasticNet()\n",
    "Elasticnet.fit(train_X, train_y)\n",
    "\n",
    "print('train score: {}'.format(Elasticnet.score(train_X,train_y)))\n",
    "print('test score: {}'.format(Elasticnet.score(test_X, test_y)))\n",
    "pred_sales = Elasticnet.predict(test_X)\n",
    "print('R2 score: ', r2_score(test_y, pred_sales))"
   ]
  },
  {
   "cell_type": "code",
   "execution_count": 525,
   "id": "96d87b72",
   "metadata": {},
   "outputs": [
    {
     "data": {
      "text/plain": [
       "GridSearchCV(estimator=ElasticNet(),\n",
       "             param_grid={'alpha': [0.0001, 0.001, 0.01, 0.05, 0.1, 0.2, 0.5,\n",
       "                                   0.8, 1, 5, 10, 15],\n",
       "                         'max_iter': [1500, 10000, 100000]})"
      ]
     },
     "execution_count": 525,
     "metadata": {},
     "output_type": "execute_result"
    }
   ],
   "source": [
    "params = {'alpha':[0.0001, 0.001, 0.01, 0.05, 0.1, 0.2, 0.5, 0.8, 1, 5, 10, 15], 'max_iter':[1500, 10000, 100000]}\n",
    "grid_search = GridSearchCV(Elasticnet, params)\n",
    "grid_search.fit(train_X, train_y)"
   ]
  },
  {
   "cell_type": "code",
   "execution_count": 526,
   "id": "8d3c887d",
   "metadata": {},
   "outputs": [
    {
     "data": {
      "text/plain": [
       "ElasticNet(alpha=0.05, max_iter=1500)"
      ]
     },
     "execution_count": 526,
     "metadata": {},
     "output_type": "execute_result"
    }
   ],
   "source": [
    "grid_search.best_estimator_"
   ]
  },
  {
   "cell_type": "code",
   "execution_count": 527,
   "id": "58d235bd",
   "metadata": {},
   "outputs": [
    {
     "name": "stdout",
     "output_type": "stream",
     "text": [
      "train score: 0.8668930816442514\n",
      "test score: 0.8574455530584222\n",
      "R2 score:  0.8574455530584222\n"
     ]
    }
   ],
   "source": [
    "#Using best parameters\n",
    "Elasticnet = grid_search.best_estimator_\n",
    "Elasticnet.fit(train_X, train_y)\n",
    "\n",
    "print('train score: {}'.format(Elasticnet.score(train_X,train_y)))\n",
    "print('test score: {}'.format(Elasticnet.score(test_X, test_y)))\n",
    "pred_sales = Elasticnet.predict(test_X)\n",
    "print('R2 score: ', r2_score(test_y, pred_sales))"
   ]
  },
  {
   "cell_type": "code",
   "execution_count": 528,
   "id": "b966cd7e",
   "metadata": {},
   "outputs": [
    {
     "name": "stdout",
     "output_type": "stream",
     "text": [
      "TRAIN DATA RESULTS\n",
      "Mean Absolute Error (MAE) on Train data  :  0.21687322052239646\n",
      "Mean Squared Error (MSE) on Train data  :  0.133569876187155\n",
      "RMSE on Train Data : 0.3654721277842607\n",
      "Training Set R squared score :  0.8668930816442514\n",
      "\n",
      "TEST DATA RESULTS\n",
      "Mean Absolute Error (MAE) on Test data : 0.23651530452661396\n",
      "Mean Squared Error (MSE) on Test data : 0.14096756941654975\n",
      "RMSE on Test Data : 0.37545648138838905\n",
      "Test Set R squared score : 0.8574455530584222\n"
     ]
    }
   ],
   "source": [
    "#### Evaluation on Train and Test data\n",
    "            \n",
    "preds_train = Elasticnet.predict(train_X)\n",
    "preds_test = Elasticnet.predict(test_X)\n",
    "\n",
    "print('TRAIN DATA RESULTS')\n",
    "print(\"Mean Absolute Error (MAE) on Train data  : \", mean_absolute_error(preds_train,train_y))\n",
    "print(\"Mean Squared Error (MSE) on Train data  : \", mean_squared_error(preds_train,train_y))\n",
    "print('RMSE on Train Data :', np.sqrt(mean_squared_error(preds_train,train_y)))\n",
    "print('Training Set R squared score : ', Elasticnet.score(train_X, train_y))\n",
    "\n",
    "print('\\nTEST DATA RESULTS')\n",
    "print('Mean Absolute Error (MAE) on Test data :', mean_absolute_error(preds_test,test_y))\n",
    "print('Mean Squared Error (MSE) on Test data :', mean_squared_error(preds_test,test_y))\n",
    "print('RMSE on Test Data :', np.sqrt(mean_squared_error(preds_test,test_y)))\n",
    "print('Test Set R squared score :', Elasticnet.score(test_X, test_y))"
   ]
  },
  {
   "cell_type": "code",
   "execution_count": 529,
   "id": "4835def3",
   "metadata": {},
   "outputs": [],
   "source": [
    "#Saving all scores for model comparison\n",
    "Elasticnet_train = Elasticnet.score(train_X,train_y)\n",
    "Elasticnet_test = Elasticnet.score(test_X, test_y)\n",
    "Elasticnet_R2 = r2_score(test_y, pred_sales)\n",
    "Elasticnet_MAE = mean_absolute_error(preds_test,test_y)\n",
    "Elasticnet_MSE = mean_squared_error(preds_test,test_y)\n",
    "Elasticnet_RMSE = np.sqrt(mean_squared_error(preds_test,test_y))"
   ]
  },
  {
   "cell_type": "markdown",
   "id": "e1ad9a42",
   "metadata": {},
   "source": [
    "### Model Comparison"
   ]
  },
  {
   "cell_type": "code",
   "execution_count": 530,
   "id": "b9227b90",
   "metadata": {},
   "outputs": [
    {
     "data": {
      "text/html": [
       "<div>\n",
       "<style scoped>\n",
       "    .dataframe tbody tr th:only-of-type {\n",
       "        vertical-align: middle;\n",
       "    }\n",
       "\n",
       "    .dataframe tbody tr th {\n",
       "        vertical-align: top;\n",
       "    }\n",
       "\n",
       "    .dataframe thead th {\n",
       "        text-align: right;\n",
       "    }\n",
       "</style>\n",
       "<table border=\"1\" class=\"dataframe\">\n",
       "  <thead>\n",
       "    <tr style=\"text-align: right;\">\n",
       "      <th></th>\n",
       "      <th>Model</th>\n",
       "      <th>Train Score</th>\n",
       "      <th>Test Score</th>\n",
       "      <th>R2 Score</th>\n",
       "      <th>MAE</th>\n",
       "      <th>MSE</th>\n",
       "      <th>RMSE</th>\n",
       "    </tr>\n",
       "  </thead>\n",
       "  <tbody>\n",
       "    <tr>\n",
       "      <th>0</th>\n",
       "      <td>Ridge</td>\n",
       "      <td>0.931975</td>\n",
       "      <td>0.883833</td>\n",
       "      <td>0.883833</td>\n",
       "      <td>0.231661</td>\n",
       "      <td>0.114874</td>\n",
       "      <td>0.338930</td>\n",
       "    </tr>\n",
       "    <tr>\n",
       "      <th>1</th>\n",
       "      <td>Lasso</td>\n",
       "      <td>0.900987</td>\n",
       "      <td>0.869811</td>\n",
       "      <td>0.869811</td>\n",
       "      <td>0.225374</td>\n",
       "      <td>0.128740</td>\n",
       "      <td>0.358803</td>\n",
       "    </tr>\n",
       "    <tr>\n",
       "      <th>2</th>\n",
       "      <td>ElasticNet</td>\n",
       "      <td>0.866893</td>\n",
       "      <td>0.857446</td>\n",
       "      <td>0.857446</td>\n",
       "      <td>0.236515</td>\n",
       "      <td>0.140968</td>\n",
       "      <td>0.375456</td>\n",
       "    </tr>\n",
       "  </tbody>\n",
       "</table>\n",
       "</div>"
      ],
      "text/plain": [
       "        Model  Train Score  Test Score  R2 Score       MAE       MSE      RMSE\n",
       "0       Ridge     0.931975    0.883833  0.883833  0.231661  0.114874  0.338930\n",
       "1       Lasso     0.900987    0.869811  0.869811  0.225374  0.128740  0.358803\n",
       "2  ElasticNet     0.866893    0.857446  0.857446  0.236515  0.140968  0.375456"
      ]
     },
     "execution_count": 530,
     "metadata": {},
     "output_type": "execute_result"
    }
   ],
   "source": [
    "models = pd.DataFrame({\n",
    "    'Model': ['Lasso', 'Ridge', 'ElasticNet'],\n",
    "    'Train Score': [Lasso_train, Ridge_train, Elasticnet_train],\n",
    "    'Test Score': [Lasso_test, Ridge_test, Elasticnet_test],\n",
    "    'R2 Score' : [Lasso_R2, Ridge_R2, Elasticnet_R2],\n",
    "    'MAE' : [Lasso_MAE, Ridge_MAE, Elasticnet_MAE],\n",
    "    'MSE':[Lasso_MSE, Ridge_MSE, Elasticnet_MSE],\n",
    "    'RMSE' : [Lasso_RMSE, Ridge_RMSE, Elasticnet_RMSE]\n",
    "})\n",
    "\n",
    "models.sort_values(by='R2 Score', ascending = False, ignore_index=True)"
   ]
  },
  {
   "cell_type": "markdown",
   "id": "ef00eddd",
   "metadata": {},
   "source": [
    "### Final Model"
   ]
  },
  {
   "cell_type": "markdown",
   "id": "71c6f2c1",
   "metadata": {},
   "source": [
    "Based on the performances of Ridge, Lasso and ElasticNet Models, it appears that the Ridge model is the best choice for our regression task. Let us compare the Models to understand why!\n",
    "\n",
    "**R-squared (R2) Score**: R2 score measures the proportion of the variance in the dependent variable that is predictable from the independent variables. A higher R2 score indicates a better fit.\n",
    "Ridge has a higher R2 score on the test data compared to Lasso and ElasticNet. \n",
    "\n",
    "**Mean Absolute Error (MAE)**: MAE measures the average magnitude of errors between actual and predicted values. Lower MAE indicates better accuracy.\n",
    "Ridge has a lower MAE on the test data compared to Lasso and ElasticNet. \n",
    "\n",
    "**Mean Squared Error (MSE)**: MSE penalizes larger errors more than MAE, and a lower MSE suggests better performance.\n",
    "Ridge has a lower MSE on the test data compared to Lasso and ElasticNet. \n",
    "\n",
    "**Root Mean Squared Error (RMSE)**: RMSE provides a measure of the standard deviation of errors, and lower RMSE indicates better accuracy.\n",
    "Ridge has a lower RMSE on the test data compared to Lasso and ElasticNet.\n",
    "\n",
    "\n",
    "In summary, Ridge regression outperforms both Lasso and ElasticNet in terms of R2 score, MAE, MSE and RMSE"
   ]
  },
  {
   "cell_type": "code",
   "execution_count": 531,
   "id": "dfb1c150",
   "metadata": {},
   "outputs": [
    {
     "name": "stdout",
     "output_type": "stream",
     "text": [
      "train score:  0.931975196444363\n",
      "test score:  0.883833231926604\n",
      "R2 score:  0.883833231926604\n",
      "Mean Absolute Error (MAE) on Test data : 0.23651530452661396\n",
      "Mean Squared Error (MSE) on Test data : 0.14096756941654975\n",
      "RMSE on Test Data : 0.37545648138838905\n"
     ]
    }
   ],
   "source": [
    "#Final Model\n",
    "\n",
    "Model = ridge\n",
    "Model.fit(train_X, train_y)\n",
    "\n",
    "print('train score: ', (Model.score(train_X,train_y)))\n",
    "print('test score: ', (Model.score(test_X, test_y)))\n",
    "pred_sales = Model.predict(test_X)\n",
    "print('R2 score: ', r2_score(test_y, pred_sales))\n",
    "print('Mean Absolute Error (MAE) on Test data :', mean_absolute_error(preds_test,test_y))\n",
    "print('Mean Squared Error (MSE) on Test data :', mean_squared_error(preds_test,test_y))\n",
    "print('RMSE on Test Data :', np.sqrt(mean_squared_error(preds_test,test_y)))"
   ]
  },
  {
   "cell_type": "markdown",
   "id": "6016ef1c",
   "metadata": {},
   "source": [
    "### Predictions on Test Dataset"
   ]
  },
  {
   "cell_type": "code",
   "execution_count": 537,
   "id": "102accf1",
   "metadata": {},
   "outputs": [
    {
     "data": {
      "text/plain": [
       "array([-0.95572499, -1.01589421,  0.00464227, ..., -0.08336731,\n",
       "       -0.75848845,  0.69042707])"
      ]
     },
     "execution_count": 537,
     "metadata": {},
     "output_type": "execute_result"
    }
   ],
   "source": [
    "Predictions = Model.predict(Test_final)\n",
    "Predictions"
   ]
  },
  {
   "cell_type": "markdown",
   "id": "3e37a76e",
   "metadata": {},
   "source": [
    "#### Project By\n",
    " - Archana Kokate"
   ]
  }
 ],
 "metadata": {
  "kernelspec": {
   "display_name": "Python 3 (ipykernel)",
   "language": "python",
   "name": "python3"
  },
  "language_info": {
   "codemirror_mode": {
    "name": "ipython",
    "version": 3
   },
   "file_extension": ".py",
   "mimetype": "text/x-python",
   "name": "python",
   "nbconvert_exporter": "python",
   "pygments_lexer": "ipython3",
   "version": "3.9.13"
  }
 },
 "nbformat": 4,
 "nbformat_minor": 5
}
